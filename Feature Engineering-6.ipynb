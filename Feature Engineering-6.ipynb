{
 "cells": [
  {
   "cell_type": "markdown",
   "id": "145ef845-3e46-4152-8136-e74f186d0e95",
   "metadata": {},
   "source": [
    "### Q1. Pearson correlation coefficient is a measure of the linear relationship between two variables. Suppose you have collected data on the amount of time students spend studying for an exam and their final exam scores. Calculate the Pearson correlation coefficient between these two variables and interpret the result.\n"
   ]
  },
  {
   "cell_type": "code",
   "execution_count": 1,
   "id": "4c095228-8c0e-48ae-8c0f-270a092967d8",
   "metadata": {},
   "outputs": [
    {
     "data": {
      "text/plain": [
       "1.0"
      ]
     },
     "execution_count": 1,
     "metadata": {},
     "output_type": "execute_result"
    }
   ],
   "source": [
    "import numpy as np\n",
    "import pandas as pd\n",
    "from scipy.stats import pearsonr\n",
    "\n",
    "data = {\n",
    "    'Hours_Studied': [5, 10, 15, 20, 25, 30, 35, 40, 45, 50],\n",
    "    'Exam_Score': [50, 55, 60, 65, 70, 75, 80, 85, 90, 95]\n",
    "}\n",
    "df = pd.DataFrame(data)\n",
    "\n",
    "corr, _ = pearsonr(df['Hours_Studied'], df['Exam_Score'])\n",
    "corr\n"
   ]
  },
  {
   "cell_type": "markdown",
   "id": "90b247fc-4471-457e-825a-7ff02e4e9484",
   "metadata": {},
   "source": [
    "The Pearson correlation coefficient between hours studied and exam scores will be calculated. A value close to 1 indicates a strong positive linear relationship, meaning as the hours studied increase, the exam scores also increase.\n"
   ]
  },
  {
   "cell_type": "markdown",
   "id": "cf73c889-c7d9-43bf-98e8-c87521d45b54",
   "metadata": {},
   "source": [
    "### Q2. Spearman's rank correlation is a measure of the monotonic relationship between two variables. Suppose you have collected data on the amount of sleep individuals get each night and their overall job satisfaction level on a scale of 1 to 10. Calculate the Spearman's rank correlation between these two variables and interpret the result.\n"
   ]
  },
  {
   "cell_type": "code",
   "execution_count": 2,
   "id": "0c30fdc0-0a4d-45f1-9896-066c774c0fac",
   "metadata": {},
   "outputs": [
    {
     "data": {
      "text/plain": [
       "1.0"
      ]
     },
     "execution_count": 2,
     "metadata": {},
     "output_type": "execute_result"
    }
   ],
   "source": [
    "from scipy.stats import spearmanr\n",
    "\n",
    "data = {\n",
    "    'Hours_Sleep': [6, 7, 8, 5, 6, 7, 9, 4, 5, 6],\n",
    "    'Job_Satisfaction': [5, 6, 7, 4, 5, 6, 8, 3, 4, 5]\n",
    "}\n",
    "df = pd.DataFrame(data)\n",
    "\n",
    "corr, _ = spearmanr(df['Hours_Sleep'], df['Job_Satisfaction'])\n",
    "corr\n"
   ]
  },
  {
   "cell_type": "markdown",
   "id": "aefafb93-64bb-42b0-8016-f04ddfd06074",
   "metadata": {},
   "source": [
    "The Spearman's rank correlation coefficient between hours of sleep and job satisfaction will be calculated. A value close to 1 indicates a strong positive monotonic relationship, meaning as the hours of sleep increase, the job satisfaction level also increases.\n"
   ]
  },
  {
   "cell_type": "markdown",
   "id": "33ed7a37-c17b-4fdc-8a4b-6a68d1b1a6cb",
   "metadata": {},
   "source": [
    "### Q3. Suppose you are conducting a study to examine the relationship between the number of hours of exercise per week and body mass index (BMI) in a sample of adults. You collected data on both variables for 50 participants. Calculate the Pearson correlation coefficient and the Spearman's rank correlation between these two variables and compare the results.\n"
   ]
  },
  {
   "cell_type": "code",
   "execution_count": 3,
   "id": "5c10ff5a-0db6-4ec7-9d96-059ae22ff3e4",
   "metadata": {},
   "outputs": [
    {
     "data": {
      "text/plain": [
       "(0.1258122441364603, 0.13016221523048604)"
      ]
     },
     "execution_count": 3,
     "metadata": {},
     "output_type": "execute_result"
    }
   ],
   "source": [
    "np.random.seed(0)\n",
    "hours_exercise = np.random.randint(0, 10, 50)\n",
    "bmi = np.random.uniform(18, 30, 50)\n",
    "\n",
    "df = pd.DataFrame({'Hours_Exercise': hours_exercise, 'BMI': bmi})\n",
    "\n",
    "pearson_corr, _ = pearsonr(df['Hours_Exercise'], df['BMI'])\n",
    "\n",
    "spearman_corr, _ = spearmanr(df['Hours_Exercise'], df['BMI'])\n",
    "\n",
    "pearson_corr, spearman_corr\n"
   ]
  },
  {
   "cell_type": "markdown",
   "id": "6be0abf8-ddb9-4e59-b82c-f17306b6fa59",
   "metadata": {},
   "source": [
    "Both the Pearson correlation coefficient and the Spearman's rank correlation coefficient will be calculated. Comparing these results will help understand if there is a linear relationship (Pearson) or a monotonic relationship (Spearman) between the number of hours of exercise and BMI.\n"
   ]
  },
  {
   "cell_type": "markdown",
   "id": "7e0d928b-26a7-4a1f-a5cb-7a00723e541b",
   "metadata": {},
   "source": [
    "### Q4. A researcher is interested in examining the relationship between the number of hours individuals spend watching television per day and their level of physical activity. The researcher collected data on both variables from a sample of 50 participants. Calculate the Pearson correlation coefficient between these two variables.\n"
   ]
  },
  {
   "cell_type": "code",
   "execution_count": 4,
   "id": "2a83f39f-9b88-40b7-af25-97a0b33d3b0e",
   "metadata": {},
   "outputs": [
    {
     "data": {
      "text/plain": [
       "0.1640933977448282"
      ]
     },
     "execution_count": 4,
     "metadata": {},
     "output_type": "execute_result"
    }
   ],
   "source": [
    "np.random.seed(1)\n",
    "hours_tv = np.random.randint(0, 5, 50)\n",
    "physical_activity = np.random.randint(0, 10, 50)\n",
    "\n",
    "df = pd.DataFrame({'Hours_TV': hours_tv, 'Physical_Activity': physical_activity})\n",
    "\n",
    "corr, _ = pearsonr(df['Hours_TV'], df['Physical_Activity'])\n",
    "corr\n"
   ]
  },
  {
   "cell_type": "markdown",
   "id": "f7c81443-d0f6-40ac-a7d8-83851bcb603e",
   "metadata": {},
   "source": [
    "The Pearson correlation coefficient between the number of hours spent watching television and the level of physical activity will be calculated. A negative value would indicate that as TV watching hours increase, physical activity decreases.\n"
   ]
  },
  {
   "cell_type": "markdown",
   "id": "9f0e7c3c-4a3a-43fc-bb5f-c614ae735bbc",
   "metadata": {},
   "source": [
    "### Q5. A survey was conducted to examine the relationship between age and preference for a particular brand of soft drink. The survey results are shown below:\n",
    "- Age (Years): 25, 42, 37, 19, 31, 28\n",
    "- Preference: Coke, Pepsi, Mountain Dew, Coke, Pepsi, Coke\n"
   ]
  },
  {
   "cell_type": "code",
   "execution_count": 6,
   "id": "ea0a26bd-33e9-45da-8cc1-947a3bb5ef24",
   "metadata": {},
   "outputs": [
    {
     "data": {
      "text/html": [
       "<div>\n",
       "<style scoped>\n",
       "    .dataframe tbody tr th:only-of-type {\n",
       "        vertical-align: middle;\n",
       "    }\n",
       "\n",
       "    .dataframe tbody tr th {\n",
       "        vertical-align: top;\n",
       "    }\n",
       "\n",
       "    .dataframe thead th {\n",
       "        text-align: right;\n",
       "    }\n",
       "</style>\n",
       "<table border=\"1\" class=\"dataframe\">\n",
       "  <thead>\n",
       "    <tr style=\"text-align: right;\">\n",
       "      <th></th>\n",
       "      <th>Age</th>\n",
       "      <th>Preference</th>\n",
       "      <th>Preference_Encoded</th>\n",
       "    </tr>\n",
       "  </thead>\n",
       "  <tbody>\n",
       "    <tr>\n",
       "      <th>0</th>\n",
       "      <td>25</td>\n",
       "      <td>Coke</td>\n",
       "      <td>0</td>\n",
       "    </tr>\n",
       "    <tr>\n",
       "      <th>1</th>\n",
       "      <td>42</td>\n",
       "      <td>Pepsi</td>\n",
       "      <td>2</td>\n",
       "    </tr>\n",
       "    <tr>\n",
       "      <th>2</th>\n",
       "      <td>37</td>\n",
       "      <td>Mountain Dew</td>\n",
       "      <td>1</td>\n",
       "    </tr>\n",
       "    <tr>\n",
       "      <th>3</th>\n",
       "      <td>19</td>\n",
       "      <td>Coke</td>\n",
       "      <td>0</td>\n",
       "    </tr>\n",
       "    <tr>\n",
       "      <th>4</th>\n",
       "      <td>31</td>\n",
       "      <td>Pepsi</td>\n",
       "      <td>2</td>\n",
       "    </tr>\n",
       "    <tr>\n",
       "      <th>5</th>\n",
       "      <td>28</td>\n",
       "      <td>Coke</td>\n",
       "      <td>0</td>\n",
       "    </tr>\n",
       "  </tbody>\n",
       "</table>\n",
       "</div>"
      ],
      "text/plain": [
       "   Age    Preference  Preference_Encoded\n",
       "0   25          Coke                   0\n",
       "1   42         Pepsi                   2\n",
       "2   37  Mountain Dew                   1\n",
       "3   19          Coke                   0\n",
       "4   31         Pepsi                   2\n",
       "5   28          Coke                   0"
      ]
     },
     "execution_count": 6,
     "metadata": {},
     "output_type": "execute_result"
    }
   ],
   "source": [
    "from sklearn.preprocessing import LabelEncoder\n",
    "\n",
    "data = {\n",
    "    'Age': [25, 42, 37, 19, 31, 28],\n",
    "    'Preference': ['Coke', 'Pepsi', 'Mountain Dew', 'Coke', 'Pepsi', 'Coke']\n",
    "}\n",
    "df = pd.DataFrame(data)\n",
    "\n",
    "label_encoder = LabelEncoder()\n",
    "df['Preference_Encoded'] = label_encoder.fit_transform(df['Preference'])\n",
    "\n",
    "df\n"
   ]
  },
  {
   "cell_type": "markdown",
   "id": "734dc9b8-ca17-4587-b965-396170713600",
   "metadata": {},
   "source": [
    "The DataFrame will show the ages and encoded preferences for the soft drinks. Label encoding is used to convert categorical variables into numerical values.\n"
   ]
  },
  {
   "cell_type": "markdown",
   "id": "b0256694-5cc3-4295-bf77-1d5ab711c9c2",
   "metadata": {},
   "source": [
    "### Q6. A company is interested in examining the relationship between the number of sales calls made per day and the number of sales made per week. The company collected data on both variables from a sample of 30 sales representatives. Calculate the Pearson correlation coefficient between these two variables.\n"
   ]
  },
  {
   "cell_type": "code",
   "execution_count": 7,
   "id": "75921393-46a7-40a9-9cd1-fc8d6ce880e8",
   "metadata": {},
   "outputs": [
    {
     "data": {
      "text/plain": [
       "-0.053909403413974044"
      ]
     },
     "execution_count": 7,
     "metadata": {},
     "output_type": "execute_result"
    }
   ],
   "source": [
    "np.random.seed(2)\n",
    "sales_calls = np.random.randint(5, 20, 30)\n",
    "sales = np.random.randint(1, 10, 30)\n",
    "\n",
    "df = pd.DataFrame({'Sales_Calls': sales_calls, 'Sales': sales})\n",
    "\n",
    "corr, _ = pearsonr(df['Sales_Calls'], df['Sales'])\n",
    "corr\n"
   ]
  },
  {
   "cell_type": "markdown",
   "id": "f905778f-d4c4-4879-be67-f2989c63960e",
   "metadata": {},
   "source": [
    "The Pearson correlation coefficient between the number of sales calls made per day and the number of sales made per week will be calculated. A positive value indicates that as the number of sales calls increases, the number of sales also increases.\n"
   ]
  },
  {
   "cell_type": "code",
   "execution_count": null,
   "id": "43ef3a87-3eae-4b37-bc2a-359ab65ff9d6",
   "metadata": {},
   "outputs": [],
   "source": []
  }
 ],
 "metadata": {
  "kernelspec": {
   "display_name": "Python 3 (ipykernel)",
   "language": "python",
   "name": "python3"
  },
  "language_info": {
   "codemirror_mode": {
    "name": "ipython",
    "version": 3
   },
   "file_extension": ".py",
   "mimetype": "text/x-python",
   "name": "python",
   "nbconvert_exporter": "python",
   "pygments_lexer": "ipython3",
   "version": "3.10.8"
  }
 },
 "nbformat": 4,
 "nbformat_minor": 5
}
